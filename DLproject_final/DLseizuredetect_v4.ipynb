{
 "cells": [
  {
   "cell_type": "markdown",
   "metadata": {
    "id": "9t8BP88J9PK0"
   },
   "source": [
    "# A Deep Learning - Based Detection Model for Epileptiform EEG Data\n",
    "Shumeng Jia & Jielong Tang"
   ]
  },
  {
   "cell_type": "markdown",
   "metadata": {
    "id": "NUUSlfeMBD4e"
   },
   "source": [
    "*Citation: Cho, KO., Jang, HJ. Comparison of different input modalities and network structures for deep learning-based seizure detection. Sci Rep 10, 122 (2020). \n",
    "https://doi.org/10.1038/s41598-019-56958-y*"
   ]
  },
  {
   "cell_type": "markdown",
   "metadata": {
    "id": "wUwWL4hmE6VV"
   },
   "source": [
    "# Background Info\n"
   ]
  },
  {
   "cell_type": "markdown",
   "metadata": {
    "id": "Rt64ZXhoHklq"
   },
   "source": [
    "## CHB-MIT Scalp EEG Database\n",
    "The dataset used for training was generated based on [CHB-MIT Scalp EEG Database](https://physionet.org/content/chbmit/1.0.0/). It consists of EEG recordings from pediatric subjects with intractable seizures. The recordings were collected  and grouped into 24 cases, each case (chb01, chb02, etc.) contains between 9 and 42 continuous .edf files from a single subject. In most cases, the .edf files contain exactly one hour of digitized EEG signals, although those belonging to case chb10 are two hours long, and those belonging to cases chb04, chb06, chb07, chb09, and chb23 are four hours long; occasionally, files in which seizures are recorded are shorter. All signals were sampled at 256 samples per second with 16-bit resolution. Most files contain 23 EEG signals (24 or 26 in a few cases).\n",
    "\n",
    "Download the whole dataset use:"
   ]
  },
  {
   "cell_type": "code",
   "execution_count": null,
   "metadata": {
    "id": "2RYY-EcqE5F1"
   },
   "outputs": [],
   "source": [
    "! wget -r -N -c -np https://physionet.org/files/chbmit/1.0.0/"
   ]
  },
  {
   "cell_type": "markdown",
   "metadata": {
    "id": "AsbFk39OH-MM"
   },
   "source": [
    "## Requirements and Imports\n",
    "In order to read and process above .edf files, we need to install pyEDFlib. pyEDFlib is a python library to read/write EDF+/BDF+ files based on EDFlib. Documentation is available online at http://pyedflib.readthedocs.org."
   ]
  },
  {
   "cell_type": "code",
   "execution_count": null,
   "metadata": {
    "id": "dZ7HBAUjHfPF"
   },
   "outputs": [],
   "source": [
    "! pip install pyEDFlib"
   ]
  },
  {
   "cell_type": "markdown",
   "metadata": {
    "id": "A2RHr7fGLhk4"
   },
   "source": [
    "This project was made using Tensorflow with Keras. "
   ]
  },
  {
   "cell_type": "code",
   "execution_count": 3,
   "metadata": {
    "id": "yraKUCx0L7bQ"
   },
   "outputs": [],
   "source": [
    "import tensorflow\n",
    "import keras\n",
    "from keras.models import Sequential\n",
    "from keras.layers import Dropout, Dense, Activation, Flatten, LSTM, Bidirectional, ConvLSTM2D\n",
    "from keras.layers import Conv2D, MaxPooling2D, BatchNormalization, TimeDistributed, SimpleRNN, GRU\n",
    "from keras.optimizers import SGD"
   ]
  },
  {
   "cell_type": "code",
   "execution_count": 7,
   "metadata": {
    "id": "5Y-1aLPNLm6H"
   },
   "outputs": [],
   "source": [
    "import os\n",
    "import pyedflib\n",
    "import numpy as np\n",
    "import matplotlib.pyplot as plt\n",
    "import warnings \n",
    "import random\n",
    "import collections\n",
    "from PIL import Image\n",
    "from numpy.random import seed \n",
    "from keras.utils import Sequence\n",
    "from sklearn.model_selection import train_test_split\n",
    "from sklearn.metrics import accuracy_score, confusion_matrix, f1_score, roc_curve, auc, fbeta_score\n",
    "\n",
    "warnings.filterwarnings(\"ignore\")"
   ]
  },
  {
   "cell_type": "markdown",
   "metadata": {
    "id": "xPuS2vk-3Tdu"
   },
   "source": [
    "## Data visualization\n",
    "\n",
    "Here we use seizure record 03 from patient 01 as an example, seizure time is 2996s - 3036s"
   ]
  },
  {
   "cell_type": "code",
   "execution_count": 6,
   "metadata": {
    "colab": {
     "base_uri": "https://localhost:8080/"
    },
    "id": "PEKDUGIm3ZMf",
    "outputId": "82618c0a-817c-423c-b156-5c7bda0fa3c9"
   },
   "outputs": [
    {
     "name": "stdout",
     "output_type": "stream",
     "text": [
      "Headers: [{'label': 'FP1-F7', 'dimension': 'uV', 'sample_rate': 256.0, 'physical_max': 800.0, 'physical_min': -800.0, 'digital_max': 2047, 'digital_min': -2048, 'prefilter': '', 'transducer': ''}, {'label': 'F7-T7', 'dimension': 'uV', 'sample_rate': 256.0, 'physical_max': 800.0, 'physical_min': -800.0, 'digital_max': 2047, 'digital_min': -2048, 'prefilter': '', 'transducer': ''}, {'label': 'T7-P7', 'dimension': 'uV', 'sample_rate': 256.0, 'physical_max': 800.0, 'physical_min': -800.0, 'digital_max': 2047, 'digital_min': -2048, 'prefilter': '', 'transducer': ''}, {'label': 'P7-O1', 'dimension': 'uV', 'sample_rate': 256.0, 'physical_max': 800.0, 'physical_min': -800.0, 'digital_max': 2047, 'digital_min': -2048, 'prefilter': '', 'transducer': ''}, {'label': 'FP1-F3', 'dimension': 'uV', 'sample_rate': 256.0, 'physical_max': 800.0, 'physical_min': -800.0, 'digital_max': 2047, 'digital_min': -2048, 'prefilter': '', 'transducer': ''}, {'label': 'F3-C3', 'dimension': 'uV', 'sample_rate': 256.0, 'physical_max': 800.0, 'physical_min': -800.0, 'digital_max': 2047, 'digital_min': -2048, 'prefilter': '', 'transducer': ''}, {'label': 'C3-P3', 'dimension': 'uV', 'sample_rate': 256.0, 'physical_max': 800.0, 'physical_min': -800.0, 'digital_max': 2047, 'digital_min': -2048, 'prefilter': '', 'transducer': ''}, {'label': 'P3-O1', 'dimension': 'uV', 'sample_rate': 256.0, 'physical_max': 800.0, 'physical_min': -800.0, 'digital_max': 2047, 'digital_min': -2048, 'prefilter': '', 'transducer': ''}, {'label': 'FP2-F4', 'dimension': 'uV', 'sample_rate': 256.0, 'physical_max': 800.0, 'physical_min': -800.0, 'digital_max': 2047, 'digital_min': -2048, 'prefilter': '', 'transducer': ''}, {'label': 'F4-C4', 'dimension': 'uV', 'sample_rate': 256.0, 'physical_max': 800.0, 'physical_min': -800.0, 'digital_max': 2047, 'digital_min': -2048, 'prefilter': '', 'transducer': ''}, {'label': 'C4-P4', 'dimension': 'uV', 'sample_rate': 256.0, 'physical_max': 800.0, 'physical_min': -800.0, 'digital_max': 2047, 'digital_min': -2048, 'prefilter': '', 'transducer': ''}, {'label': 'P4-O2', 'dimension': 'uV', 'sample_rate': 256.0, 'physical_max': 800.0, 'physical_min': -800.0, 'digital_max': 2047, 'digital_min': -2048, 'prefilter': '', 'transducer': ''}, {'label': 'FP2-F8', 'dimension': 'uV', 'sample_rate': 256.0, 'physical_max': 800.0, 'physical_min': -800.0, 'digital_max': 2047, 'digital_min': -2048, 'prefilter': '', 'transducer': ''}, {'label': 'F8-T8', 'dimension': 'uV', 'sample_rate': 256.0, 'physical_max': 800.0, 'physical_min': -800.0, 'digital_max': 2047, 'digital_min': -2048, 'prefilter': '', 'transducer': ''}, {'label': 'T8-P8', 'dimension': 'uV', 'sample_rate': 256.0, 'physical_max': 800.0, 'physical_min': -800.0, 'digital_max': 2047, 'digital_min': -2048, 'prefilter': '', 'transducer': ''}, {'label': 'P8-O2', 'dimension': 'uV', 'sample_rate': 256.0, 'physical_max': 800.0, 'physical_min': -800.0, 'digital_max': 2047, 'digital_min': -2048, 'prefilter': '', 'transducer': ''}, {'label': 'FZ-CZ', 'dimension': 'uV', 'sample_rate': 256.0, 'physical_max': 800.0, 'physical_min': -800.0, 'digital_max': 2047, 'digital_min': -2048, 'prefilter': '', 'transducer': ''}, {'label': 'CZ-PZ', 'dimension': 'uV', 'sample_rate': 256.0, 'physical_max': 800.0, 'physical_min': -800.0, 'digital_max': 2047, 'digital_min': -2048, 'prefilter': '', 'transducer': ''}, {'label': 'P7-T7', 'dimension': 'uV', 'sample_rate': 256.0, 'physical_max': 800.0, 'physical_min': -800.0, 'digital_max': 2047, 'digital_min': -2048, 'prefilter': '', 'transducer': ''}, {'label': 'T7-FT9', 'dimension': 'uV', 'sample_rate': 256.0, 'physical_max': 800.0, 'physical_min': -800.0, 'digital_max': 2047, 'digital_min': -2048, 'prefilter': '', 'transducer': ''}, {'label': 'FT9-FT10', 'dimension': 'uV', 'sample_rate': 256.0, 'physical_max': 800.0, 'physical_min': -800.0, 'digital_max': 2047, 'digital_min': -2048, 'prefilter': '', 'transducer': ''}, {'label': 'FT10-T8', 'dimension': 'uV', 'sample_rate': 256.0, 'physical_max': 800.0, 'physical_min': -800.0, 'digital_max': 2047, 'digital_min': -2048, 'prefilter': '', 'transducer': ''}, {'label': 'T8-P8', 'dimension': 'uV', 'sample_rate': 256.0, 'physical_max': 800.0, 'physical_min': -800.0, 'digital_max': 2047, 'digital_min': -2048, 'prefilter': '', 'transducer': ''}]\n",
      "Signal Numbers: 23\n",
      "Labels: ['FP1-F7', 'F7-T7', 'T7-P7', 'P7-O1', 'FP1-F3', 'F3-C3', 'C3-P3', 'P3-O1', 'FP2-F4', 'F4-C4', 'C4-P4', 'P4-O2', 'FP2-F8', 'F8-T8', 'T8-P8', 'P8-O2', 'FZ-CZ', 'CZ-PZ', 'P7-T7', 'T7-FT9', 'FT9-FT10', 'FT10-T8', 'T8-P8']\n",
      "Sample Rate: 256.0\n",
      "Duration(s):  3600\n"
     ]
    }
   ],
   "source": [
    "f = pyedflib.EdfReader(\"/content/physionet.org/files/chbmit/1.0.0/chb01/chb01_03.edf\")\n",
    "\n",
    "signal_headers = f.getSignalHeaders()\n",
    "print(\"Headers:\", signal_headers)\n",
    "\n",
    "n = f.signals_in_file\n",
    "print(\"Signal Numbers:\", n)\n",
    "\n",
    "signal_labels = f.getSignalLabels()\n",
    "print(\"Labels:\", signal_labels)\n",
    "\n",
    "rate = signal_headers[0]['sample_rate']\n",
    "print(\"Sample Rate:\", rate)\n",
    "\n",
    "dur = f.getFileDuration()\n",
    "print('Duration(s): ',dur)\n",
    "\n",
    "x = np.zeros((n, f.getNSamples()[0]))\n",
    "\n",
    "f.close()\n"
   ]
  },
  {
   "cell_type": "code",
   "execution_count": 10,
   "metadata": {
    "colab": {
     "base_uri": "https://localhost:8080/",
     "height": 350
    },
    "id": "VjVRyzYk3vnJ",
    "outputId": "0a63523d-b8f4-40a4-d23a-cab72bff310b"
   },
   "outputs": [
    {
     "data": {
      "image/png": "[encoded data removed]",
      "text/plain": [
       "<Figure size 720x360 with 1 Axes>"
      ]
     },
     "metadata": {
      "needs_background": "light",
      "tags": []
     },
     "output_type": "display_data"
    }
   ],
   "source": [
    "fig = plt.figure(figsize=(10,5))\n",
    "ts = np.arange(0, len(x[0,:]))/rate\n",
    "scale_ls = []\n",
    "\n",
    "for i in range(n):\n",
    "  f = pyedflib.EdfReader(\"/content/physionet.org/files/chbmit/1.0.0/chb01/chb01_03.edf\")\n",
    "  x[i,:] = f.readSignal(i)\n",
    "  label = f.getLabel(i)\n",
    "  f.close()\n",
    "\n",
    "for i in range(n):\n",
    "  plt.plot(ts, x[i,:]-i*800, linewidth=1, color='gray')\n",
    "  scale_ls = scale_ls + [-i*800]\n",
    "\n",
    "plt.xlim(0, dur)\n",
    "plt.ylim(-18000, 400)\n",
    "plt.yticks(scale_ls,signal_labels)\n",
    "plt.xlabel(\"Time(s)\")\n",
    "plt.ylabel(\"Channels\")\n",
    "plt.title('chb01_03')\n",
    "\n",
    "plt.axvline(2996, linestyle=\"-\", linewidth=0.8, color='r') \n",
    "plt.axvline(3036, linestyle=\"-\", linewidth=0.8, color='r') \n",
    "\n",
    "ax = fig.add_subplot(111)\n",
    "ax.spines['top'].set_visible(False)\n",
    "ax.spines['right'].set_visible(False)\n",
    "ax.spines['bottom'].set_visible(False)\n",
    "ax.spines['left'].set_visible(False)\n",
    "\n",
    "plt.show()"
   ]
  },
  {
   "cell_type": "markdown",
   "metadata": {
    "id": "69TZUOQrMse_"
   },
   "source": [
    "## Format of input files"
   ]
  },
  {
   "cell_type": "markdown",
   "metadata": {
    "id": "9yW0hd62Ondg"
   },
   "source": [
    "```\n",
    "----content\\\n",
    "    |----physionet.org\\\n",
    "    |    |----robots.txt\n",
    "    |    |----files\\\n",
    "    |    |    |----chbmit\\\n",
    "    |    |    |    |----1.0.0\\\n",
    "    |    |    |    |    |----chb01\\\n",
    "    |    |    |    |    |    |----chb01-summary.txt\n",
    "    |    |    |    |    |    |----chb01_01.edf\n",
    "    |    |    |    |    |    |----chb01_02.edf\n",
    "    |    |    |    |    |    |----...\n",
    "    |    |    |    |    |----chb02\\\n",
    "    |    |    |    |    |    |----chb02-summary.txt\n",
    "    |    |    |    |    |    |----...\n",
    "    |    |    |    |    |----chb03\\\n",
    "    |    |    |    |    |    |----...\n",
    "    |    |    |    |    |----chb04\\\n",
    "    |    |    |    |    |    |----...\n",
    "    |    |    |    |    |----...\n",
    "    |----chbfig\\\n",
    "    |    |----chb01\\\n",
    "    |    |    |----chb01_03_nonseizure_1263.jpg\n",
    "    |    |    |----chb01_21_nonseizure_55.jpg\n",
    "    |    |    |----chb01_03_seizure_3000.jpg\n",
    "    |    |    |----...\n",
    "    |    |----chb02\\\n",
    "    |    |    |----...\n",
    "    |    |----chb03\\\n",
    "    |    |    |----...\n",
    "    |    |----...\n",
    "    |----cks\\\n",
    "\n",
    "```\n",
    "\n",
    "\n"
   ]
  },
  {
   "cell_type": "markdown",
   "metadata": {
    "id": "CJQOxWW7XTrn"
   },
   "source": [
    "# Helper Functions"
   ]
  },
  {
   "cell_type": "markdown",
   "metadata": {
    "id": "XHg2agMNmwbF"
   },
   "source": [
    "Below global variables define the patient number we use for training and validation."
   ]
  },
  {
   "cell_type": "code",
   "execution_count": null,
   "metadata": {
    "id": "CuBIsUauYBhO"
   },
   "outputs": [],
   "source": [
    "pathDataSet = '/content/physionet.org/files/chbmit/1.0.0/'  # path of the dataset\n",
    "patients = [\"01\",\"02\",\"03\",\"04\",\"05\",\"06\",\"07\",\"08\",\"09\",\"10\"] # the record of the patients we use to train"
   ]
  },
  {
   "cell_type": "markdown",
   "metadata": {
    "id": "zm1WD1Sunuic"
   },
   "source": [
    "This function read the files named `chbnn-summary.txt` which contain information about the montage used for each recording, and the elapsed time in seconds from the beginning of each .edf file to the beginning and end of each seizure contained in it."
   ]
  },
  {
   "cell_type": "code",
   "execution_count": null,
   "metadata": {
    "id": "NVdnurCVYQ-6"
   },
   "outputs": [],
   "source": [
    "def loadSummaryPatient(index):\n",
    "  f = open(pathDataSet+'chb'+patients[index]+'/chb'+patients[index]+'-summary.txt', 'r')\n",
    "  parent = 'chb'+patients[index]+'/'\n",
    "  return f, parent"
   ]
  },
  {
   "cell_type": "markdown",
   "metadata": {
    "id": "d5oUIcsQn2Q0"
   },
   "source": [
    "This function helps generate seizure/nonseizure images according to the summary files. It reads in multi-channel EEG signals and output gray scale pictures. Treat the raw signal at each sample and channel as the pixel attribute of a 2D image, change it from time-amplitude domain to images domain. The rows corresponded to the different EEG channels aligned vertically, and the columns to the temporal dimension. Then split the time course of EEG signals into segments (windows) of 1 s of duration, so each resulting image had dimensions of *23 channels × ( 1 s × 256 samples/s )*.\n",
    "\n",
    "The output image will be saved as a .jpg file and named after its corresponding patient number and time. "
   ]
  },
  {
   "cell_type": "code",
   "execution_count": null,
   "metadata": {
    "id": "fOC9LknbYT5f"
   },
   "outputs": [],
   "source": [
    "def seizureImageGenerate(secSt, secEn, name_F, parent):\n",
    "  file1 = pyedflib.EdfReader(pathDataSet+parent+name_F)\n",
    "  n = file1.signals_in_file\n",
    "  # print(n)\n",
    "  signal_labels = file1.getSignalLabels()\n",
    "  signal_headers = file1.getSignalHeaders()\n",
    "  rate = signal_headers[0]['sample_rate']\n",
    "  dur = file1.getFileDuration()\n",
    "  x = np.zeros((n, file1.getNSamples()[0]))\n",
    "  for i in range(n):\n",
    "    x[i,:] = file1.readSignal(i)\n",
    "    # print(x)\n",
    "    label = file1.getLabel(i)\n",
    "  file1.close()\n",
    "  #a = os.getcwd()\n",
    "  path = '/content/chbfig/'+ parent\n",
    "  if os.path.isdir(path) is not True:\n",
    "    os.makedirs(path)\n",
    "  picnum = int(dur*rate/256)\n",
    "  for i in range(picnum):\n",
    "    img = x[:,i*256:(i+1)*256]\n",
    "    Img = Image.fromarray(np.uint8(img))\n",
    "    if secSt <= i+1 <= secEn:\n",
    "      filename = '_seizure_'+ str(i)\n",
    "      Img.save(path + name_F.split('.')[0] + filename+'.jpg')\n",
    "    else:\n",
    "      filename = '_nonseizure_'+ str(i)\n",
    "      Img.save(path + name_F.split('.')[0] + filename+'.jpg')"
   ]
  },
  {
   "cell_type": "markdown",
   "metadata": {
    "id": "u4OvVP7Sq47q"
   },
   "source": [
    "This function create the image dataset we use for training and validation."
   ]
  },
  {
   "cell_type": "code",
   "execution_count": null,
   "metadata": {
    "id": "Y2qN1eCdYXOn"
   },
   "outputs": [],
   "source": [
    "def createDataset():\n",
    "\n",
    "    print(\"START \\n\")\n",
    "    for indexPatient in range(0, len(patients)):\n",
    "        # fileList = []\n",
    "    \n",
    "        f, parent = loadSummaryPatient(indexPatient)\n",
    "        line=f.readline()\n",
    "        while (line):\n",
    "            data=line.split(':')\n",
    "            if (data[0]==\"File Name\"):\n",
    "                name_F=data[1].strip()\n",
    "                print(name_F)\n",
    "                for i in range(3):\n",
    "                    line=f.readline()\n",
    "                for j in range(0, int(line.split(': ')[1])):\n",
    "                    secSt=int(f.readline().split(': ')[1].split(' ')[0])\n",
    "                    secEn=int(f.readline().split(': ')[1].split(' ')[0])\n",
    "                    seizureImageGenerate(secSt, secEn, name_F, parent)\n",
    "\n",
    "            line=f.readline()\n",
    "        f.close()\n",
    "\n",
    "    print(\"END \\n\")"
   ]
  },
  {
   "cell_type": "markdown",
   "metadata": {
    "id": "g6HKmjxwwequ"
   },
   "source": [
    "This function load features and labels for testing new patients and fine tune pre-trained model. For training and validation data loading, we use dataloader to help with memory outage."
   ]
  },
  {
   "cell_type": "code",
   "execution_count": null,
   "metadata": {
    "id": "ceGOPvmIYg8X"
   },
   "outputs": [],
   "source": [
    "def testlabelGenerate():\n",
    "    parent_path = 'chbfig/'\n",
    "    featureList = []\n",
    "    labelList = []\n",
    "    for indexPatient in range(0, len(test_patients)):         # len(patients)\n",
    "        sub_path = 'chb'+test_patients[indexPatient]+'/'\n",
    "        print(sub_path)\n",
    "        directory_name = parent_path+sub_path\n",
    "        features = np.zeros((len(os.listdir(directory_name)),23,256))\n",
    "        labels = np.zeros((len(os.listdir(directory_name))),dtype=int)\n",
    "        i = 0 #the feature index\n",
    "        for filename in os.listdir(directory_name):\n",
    "            # print(filename)\n",
    "            if '_seizure_' in filename:\n",
    "                im_features = np.array(Image.open(directory_name+filename))\n",
    "                features[i] = np.vstack((im_features[0:23,:], np.zeros(256)))[0:23,:]\n",
    "                labels[i] = 1\n",
    "            elif '_nonseizure_' in filename:\n",
    "                im_features = np.array(Image.open(directory_name+filename))\n",
    "                features[i] = np.vstack((im_features[0:23,:], np.zeros(256)))[0:23,:]\n",
    "                labels[i] = 0\n",
    "            i = i+1\n",
    "\n",
    "        featureList.append(features)\n",
    "        labelList.append(labels)\n",
    "\n",
    "    X = featureList[0]\n",
    "    Y = labelList[0]\n",
    "    for j in range(1,len(featureList)):\n",
    "        X = np.vstack((X,featureList[j]))\n",
    "        Y = np.hstack((Y,labelList[j]))\n",
    "  \n",
    "    return X,Y"
   ]
  },
  {
   "cell_type": "markdown",
   "metadata": {
    "id": "C6cpo8pdZSxO"
   },
   "source": [
    "# Data Loader"
   ]
  },
  {
   "cell_type": "code",
   "execution_count": null,
   "metadata": {
    "id": "7W50yyOiaE9f"
   },
   "outputs": [],
   "source": [
    "def generatePathList(patients, test_size):\n",
    "    parent_path = 'chbfig/'\n",
    "    pathList = []\n",
    "    for indexPatient in range(0, len(patients)):\n",
    "        sub_path = 'chb'+patients[indexPatient]+'/'\n",
    "        directory_name = parent_path+sub_path\n",
    "        for filename in os.listdir(directory_name):\n",
    "            pathList.append(directory_name+filename)\n",
    "    L = len(pathList)\n",
    "    test_index = int(L*test_size)\n",
    "    index = random.sample(range(L), L)\n",
    "    return index[:test_index],index[test_index:],pathList\n",
    "\n",
    "\n",
    "class DataGenerator(Sequence):\n",
    "\n",
    "    def __init__(self, index, pathList, parent_path = 'chbfig/', batch_size=32):\n",
    "        self.batch_size = batch_size\n",
    "        self.parent_path = parent_path\n",
    "        self.pathList = pathList\n",
    "        self.index = index\n",
    "        self.L = len(self.index)\n",
    "\n",
    "\n",
    "    def __len__(self):\n",
    "        return self.L - self.batch_size\n",
    "\n",
    "    def __getitem__(self, idx):\n",
    "        batch_indexs = self.index[idx:(idx+self.batch_size)]\n",
    "        image_path = [self.pathList[k] for k in batch_indexs]\n",
    "    \n",
    "        return self._load_image(image_path)\n",
    "\n",
    "  \n",
    "    def _load_image(self, image_path):\n",
    "        features = np.zeros(((len(image_path)),23,256))\n",
    "        labels = np.zeros((len(image_path)),dtype=int)\n",
    "        i = 0 #the feature index\n",
    "        for name in image_path:\n",
    "            #print(name)\n",
    "            if '_seizure_' in name:\n",
    "                features[i] = np.array(Image.open(name))[0:23,:]\n",
    "                labels[i] = 1\n",
    "            elif '_nonseizure_' in name:\n",
    "                features[i] = np.array(Image.open(name))[0:23,:]\n",
    "                labels[i] = 0\n",
    "            i = i+1\n",
    "        # print(features)\n",
    "        # print(labels)\n",
    "        # print(np.expand_dims(np.array(features), axis=3).shape)\n",
    "        # print(labels.shape)\n",
    "        return np.expand_dims(np.array(features), axis=3),labels\n"
   ]
  },
  {
   "cell_type": "code",
   "execution_count": null,
   "metadata": {
    "id": "pSBmRV2hA3Ko"
   },
   "outputs": [],
   "source": [
    "# Use the data loader:\n",
    "# test_id, train_id, path_list = generatePathList(patients,test_size=0.3)  # 30% test_size \n",
    "# train_data = DataGenerator(train_id, path_list)\n",
    "# test_data = DataGenerator(test_id, path_list)"
   ]
  },
  {
   "cell_type": "markdown",
   "metadata": {
    "id": "7ZhYPJqCY2_A"
   },
   "source": [
    "# Model Structure"
   ]
  },
  {
   "cell_type": "markdown",
   "metadata": {
    "id": "tLci0leeBoAK"
   },
   "source": [
    "This model combine FCN and Bi-directional GRU. The output of the 3rd 2Dconvolution is flattened and fed into Bi-directional GRU layer, then followed by 2 dense layer. The additional Bi-directional GRU is used for the purpose of f1-score improvement. "
   ]
  },
  {
   "cell_type": "code",
   "execution_count": null,
   "metadata": {
    "id": "n7qeP2aMY5-O"
   },
   "outputs": [],
   "source": [
    "model = Sequential()\n",
    "\n",
    "model.add(Conv2D(64, (2, 4), input_shape=((23, 256, 1))))\n",
    "model.add(BatchNormalization())\n",
    "model.add(Activation('relu'))\n",
    "model.add(MaxPooling2D(pool_size=(1, 4)))\n",
    "model.add(Dropout(0.15))\n",
    "\n",
    "model.add(Conv2D(32, (2, 4)))\n",
    "model.add(BatchNormalization())\n",
    "model.add(Activation('relu'))\n",
    "model.add(MaxPooling2D(pool_size=(1, 4)))\n",
    "model.add(Dropout(0.15))\n",
    "\n",
    "model.add(Conv2D(32, (2, 4)))\n",
    "model.add(BatchNormalization())\n",
    "model.add(Activation('relu'))\n",
    "model.add(MaxPooling2D(pool_size=(1, 4)))\n",
    "model.add(Dropout(0.15))\n",
    "\n",
    "model.add(TimeDistributed(Flatten()))\n",
    "model.add(Bidirectional(GRU(32)))\n",
    "model.add(Dropout(0.15))\n",
    "\n",
    "model.add(Dense(32, activation='relu'))\n",
    "model.add(Dense(1, activation='sigmoid'))\n",
    "\n",
    "\n",
    "sgd = SGD(lr=0.0001, decay=1e-6, momentum=0.9, nesterov=True)\n",
    "model.compile(metrics=['accuracy', [keras.metrics.FalseNegatives(name='FN')]], loss='binary_crossentropy', optimizer=sgd)\n"
   ]
  },
  {
   "cell_type": "code",
   "execution_count": null,
   "metadata": {
    "colab": {
     "base_uri": "https://localhost:8080/"
    },
    "id": "qY13nN2bY9-p",
    "outputId": "8b8d793f-ad04-465d-d99e-de169e1d72c7"
   },
   "outputs": [
    {
     "name": "stdout",
     "output_type": "stream",
     "text": [
      "Model: \"sequential\"\n",
      "_________________________________________________________________\n",
      "Layer (type)                 Output Shape              Param #   \n",
      "=================================================================\n",
      "conv2d (Conv2D)              (None, 22, 253, 64)       576       \n",
      "_________________________________________________________________\n",
      "batch_normalization (BatchNo (None, 22, 253, 64)       256       \n",
      "_________________________________________________________________\n",
      "activation (Activation)      (None, 22, 253, 64)       0         \n",
      "_________________________________________________________________\n",
      "max_pooling2d (MaxPooling2D) (None, 22, 63, 64)        0         \n",
      "_________________________________________________________________\n",
      "dropout (Dropout)            (None, 22, 63, 64)        0         \n",
      "_________________________________________________________________\n",
      "conv2d_1 (Conv2D)            (None, 21, 60, 32)        16416     \n",
      "_________________________________________________________________\n",
      "batch_normalization_1 (Batch (None, 21, 60, 32)        128       \n",
      "_________________________________________________________________\n",
      "activation_1 (Activation)    (None, 21, 60, 32)        0         \n",
      "_________________________________________________________________\n",
      "max_pooling2d_1 (MaxPooling2 (None, 21, 15, 32)        0         \n",
      "_________________________________________________________________\n",
      "dropout_1 (Dropout)          (None, 21, 15, 32)        0         \n",
      "_________________________________________________________________\n",
      "conv2d_2 (Conv2D)            (None, 20, 12, 32)        8224      \n",
      "_________________________________________________________________\n",
      "batch_normalization_2 (Batch (None, 20, 12, 32)        128       \n",
      "_________________________________________________________________\n",
      "activation_2 (Activation)    (None, 20, 12, 32)        0         \n",
      "_________________________________________________________________\n",
      "max_pooling2d_2 (MaxPooling2 (None, 20, 3, 32)         0         \n",
      "_________________________________________________________________\n",
      "dropout_2 (Dropout)          (None, 20, 3, 32)         0         \n",
      "_________________________________________________________________\n",
      "time_distributed (TimeDistri (None, 20, 96)            0         \n",
      "_________________________________________________________________\n",
      "bidirectional (Bidirectional (None, 64)                24960     \n",
      "_________________________________________________________________\n",
      "dropout_3 (Dropout)          (None, 64)                0         \n",
      "_________________________________________________________________\n",
      "dense (Dense)                (None, 32)                2080      \n",
      "_________________________________________________________________\n",
      "dense_1 (Dense)              (None, 1)                 33        \n",
      "=================================================================\n",
      "Total params: 52,801\n",
      "Trainable params: 52,545\n",
      "Non-trainable params: 256\n",
      "_________________________________________________________________\n"
     ]
    }
   ],
   "source": [
    "model.summary()"
   ]
  },
  {
   "cell_type": "markdown",
   "metadata": {
    "id": "VvDQuuOGZ6r9"
   },
   "source": [
    "# Load pre-trained model"
   ]
  },
  {
   "cell_type": "markdown",
   "metadata": {
    "id": "DlTMJJMIDB0h"
   },
   "source": [
    "Our pre-trained model is trained and validated on AWS Sagemaker. Use seizure record from patient 01 to 10."
   ]
  },
  {
   "cell_type": "code",
   "execution_count": null,
   "metadata": {
    "id": "la50ANI44B3S"
   },
   "outputs": [],
   "source": [
    "model_test = keras.models.load_model('model_290-0.99.hdf5')"
   ]
  },
  {
   "cell_type": "markdown",
   "metadata": {
    "id": "oFktHiybhXpM"
   },
   "source": [
    "## Validation"
   ]
  },
  {
   "cell_type": "markdown",
   "metadata": {
    "id": "LxpMIGULDw9j"
   },
   "source": [
    "Here we use seizure record from patient 01 to view the validation result of our model. The first 70% of the seizure record of patient 01 is already used for training, and the last 30% is used for the validation, so here we only load the validation set."
   ]
  },
  {
   "cell_type": "code",
   "execution_count": null,
   "metadata": {
    "id": "59FSOICtjy8y"
   },
   "outputs": [],
   "source": [
    "patients = [\"01\"]  # You may change the patient number you want to validate (1-10)\n",
    "createDataset()    # Due to the limited storage space of colab, here we only generate part of the data set\n",
    "val_id, train_id, path_list = generatePathList(patients,test_size=0.3)\n",
    "val_data = DataGenerator(val_id, path_list)"
   ]
  },
  {
   "cell_type": "code",
   "execution_count": null,
   "metadata": {
    "colab": {
     "base_uri": "https://localhost:8080/"
    },
    "id": "h9_zSL9e4L00",
    "outputId": "271cc02c-87e8-4ff8-c580-8aee0d5e73ea"
   },
   "outputs": [
    {
     "name": "stdout",
     "output_type": "stream",
     "text": [
      "7145/7145 [==============================] - 133s 14ms/step - loss: 0.0204 - accuracy: 0.9933\n"
     ]
    },
    {
     "data": {
      "text/plain": [
       "[0.02044590190052986, 0.9932820200920105]"
      ]
     },
     "execution_count": 13,
     "metadata": {
      "tags": []
     },
     "output_type": "execute_result"
    }
   ],
   "source": [
    "model_test.evaluate(val_data, batch_size=32)"
   ]
  },
  {
   "cell_type": "code",
   "execution_count": null,
   "metadata": {
    "id": "vA7xD4fxmt_g"
   },
   "outputs": [],
   "source": [
    "y_hat = model_test.predict_classes(val_data)\n",
    "y_val = []\n",
    "for i in range(len(val_data)):\n",
    "  list_val = list(val_data[i])\n",
    "  y_val = np.hstack((y_val,list_val[1]))"
   ]
  },
  {
   "cell_type": "code",
   "execution_count": null,
   "metadata": {
    "colab": {
     "base_uri": "https://localhost:8080/"
    },
    "id": "-kewoqh1oXI2",
    "outputId": "72cc6135-40c4-47e8-c913-22da6269994e"
   },
   "outputs": [
    {
     "name": "stdout",
     "output_type": "stream",
     "text": [
      "acuuracy \t 0.9932820153953814\n",
      "sensitivity \t 0.954248366013072\n",
      "specificity \t 0.9941361556064073\n",
      "F1-score \t 0.8588235294117648\n"
     ]
    }
   ],
   "source": [
    "tn, fp, fn, tp = confusion_matrix(y_val, y_hat).ravel()\n",
    "print('acuuracy \\t', accuracy_score(y_val, y_hat))\n",
    "sensitivity = int(tp)/int(tp+fn)\n",
    "print('sensitivity \\t', sensitivity)\n",
    "specificity = int(tn)/int(fp+tn)\n",
    "print('specificity \\t', specificity)\n",
    "print('F1-score \\t', f1_score(y_val, y_hat)) "
   ]
  },
  {
   "cell_type": "markdown",
   "metadata": {
    "id": "VRkxq4yJBNui"
   },
   "source": [
    "## Fine Tune for new patient"
   ]
  },
  {
   "cell_type": "markdown",
   "metadata": {
    "id": "x5_3rpy0J2oQ"
   },
   "source": [
    "We chose to divide the data set from the perspective of the patient instead of mixing the data of all patients. This is because we found that different patients have different seizure characteristics. Only when the model has learned the patient’s seizure data, The accuracy of the model is high. But when the model is used to test a new patient that it never learned, the detection rate is not ideal.\n",
    "\n",
    "We did not find a solution to this problem in related papers. It seems that the papers used all patients' seizure data to train the model, and achieved high accuracy on these patients, but did not introduce new patients to verify. Therefore, we reserve some patients to evaluate the model before training.\n",
    "\n",
    "The performance of the model on new patients is disappointing. So we try to fine tune the pre-train model use very few seizure data from new patient, the performance is improved a lot after 10 epochs.\n",
    "\n",
    "We think this fine tune is reasonable, because the pathological characteristics of different patients are very different."
   ]
  },
  {
   "cell_type": "code",
   "execution_count": null,
   "metadata": {
    "id": "Z2zVkiqWkxOX"
   },
   "outputs": [],
   "source": [
    "test_patients = [\"11\"] # You may change the patient number you want to test (11-23)\n",
    "patients = test_patients\n",
    "createDataset()  # Due to the limited storage space of colab, here we only generate part of the data set"
   ]
  },
  {
   "cell_type": "code",
   "execution_count": null,
   "metadata": {
    "colab": {
     "base_uri": "https://localhost:8080/"
    },
    "id": "3cpYCRR83buC",
    "outputId": "ef153126-fc33-4d21-e31d-5d0da152674c"
   },
   "outputs": [
    {
     "name": "stdout",
     "output_type": "stream",
     "text": [
      "chb11/\n"
     ]
    }
   ],
   "source": [
    "test_features, test_labels = testlabelGenerate()\n",
    "if test_features.ndim == 3:\n",
    "    test_features = np.expand_dims(test_features, axis=3)"
   ]
  },
  {
   "cell_type": "code",
   "execution_count": null,
   "metadata": {
    "colab": {
     "base_uri": "https://localhost:8080/"
    },
    "id": "4yxHsrwnM3Zy",
    "outputId": "86cb8040-3b8b-4a7d-ba80-92019dfcd8b2"
   },
   "outputs": [
    {
     "name": "stdout",
     "output_type": "stream",
     "text": [
      "Model: \"sequential_14\"\n",
      "_________________________________________________________________\n",
      "Layer (type)                 Output Shape              Param #   \n",
      "=================================================================\n",
      "conv2d_40 (Conv2D)           (None, 22, 253, 64)       576       \n",
      "_________________________________________________________________\n",
      "batch_normalization_40 (Batc (None, 22, 253, 64)       256       \n",
      "_________________________________________________________________\n",
      "activation_40 (Activation)   (None, 22, 253, 64)       0         \n",
      "_________________________________________________________________\n",
      "max_pooling2d_40 (MaxPooling (None, 22, 63, 64)        0         \n",
      "_________________________________________________________________\n",
      "dropout_53 (Dropout)         (None, 22, 63, 64)        0         \n",
      "_________________________________________________________________\n",
      "conv2d_41 (Conv2D)           (None, 21, 60, 32)        16416     \n",
      "_________________________________________________________________\n",
      "batch_normalization_41 (Batc (None, 21, 60, 32)        128       \n",
      "_________________________________________________________________\n",
      "activation_41 (Activation)   (None, 21, 60, 32)        0         \n",
      "_________________________________________________________________\n",
      "max_pooling2d_41 (MaxPooling (None, 21, 15, 32)        0         \n",
      "_________________________________________________________________\n",
      "dropout_54 (Dropout)         (None, 21, 15, 32)        0         \n",
      "_________________________________________________________________\n",
      "conv2d_42 (Conv2D)           (None, 20, 12, 32)        8224      \n",
      "_________________________________________________________________\n",
      "batch_normalization_42 (Batc (None, 20, 12, 32)        128       \n",
      "_________________________________________________________________\n",
      "activation_42 (Activation)   (None, 20, 12, 32)        0         \n",
      "_________________________________________________________________\n",
      "max_pooling2d_42 (MaxPooling (None, 20, 3, 32)         0         \n",
      "_________________________________________________________________\n",
      "dropout_55 (Dropout)         (None, 20, 3, 32)         0         \n",
      "_________________________________________________________________\n",
      "time_distributed_14 (TimeDis (None, 20, 96)            0         \n",
      "_________________________________________________________________\n",
      "bidirectional_14 (Bidirectio (None, 64)                24768     \n",
      "_________________________________________________________________\n",
      "dropout_56 (Dropout)         (None, 64)                0         \n",
      "_________________________________________________________________\n",
      "dense_27 (Dense)             (None, 32)                2080      \n",
      "_________________________________________________________________\n",
      "dense_28 (Dense)             (None, 1)                 33        \n",
      "=================================================================\n",
      "Total params: 52,609\n",
      "Trainable params: 26,881\n",
      "Non-trainable params: 25,728\n",
      "_________________________________________________________________\n"
     ]
    }
   ],
   "source": [
    "# train last 4 layers Bi-GRU and 2 dense layer\n",
    "model_test.trainable = True    \n",
    "for layer in model_test.layers[:16]:\n",
    "    layer.trainable = False\n",
    "model_test.summary()"
   ]
  },
  {
   "cell_type": "code",
   "execution_count": null,
   "metadata": {
    "id": "uayiH37QNfa2"
   },
   "outputs": [],
   "source": [
    "x_train, x_test, y_train, y_test = train_test_split(test_features, test_labels, test_size=0.4, random_state=1)\n",
    "weights = collections.Counter(y_train)\n",
    "weight = int(weights[0]/weights[1])"
   ]
  },
  {
   "cell_type": "code",
   "execution_count": null,
   "metadata": {
    "colab": {
     "base_uri": "https://localhost:8080/"
    },
    "id": "eLKpV8be4mAa",
    "outputId": "b6f1ed44-ba09-42ed-a2bf-765d6845d3a3"
   },
   "outputs": [
    {
     "name": "stdout",
     "output_type": "stream",
     "text": [
      "acuuracy \t 0.9537773359840954\n",
      "sensitivity \t 0.5709677419354838\n",
      "specificity \t 0.9857296715131934\n",
      "F1-score \t 0.6555555555555554\n"
     ]
    }
   ],
   "source": [
    "# Before fine tune\n",
    "\n",
    "y_hat = model_test.predict_classes(x_test)\n",
    "tn, fp, fn, tp = confusion_matrix(y_test, y_hat).ravel()\n",
    "print('acuuracy \\t', accuracy_score(y_test, y_hat))\n",
    "sensitivity = int(tp)/int(tp+fn)\n",
    "print('sensitivity \\t', sensitivity)\n",
    "specificity = int(tn)/int(fp+tn)\n",
    "print('specificity \\t', specificity)\n",
    "print('F1-score \\t', f1_score(y_test, y_hat))\n",
    "\n",
    "y_score = model_test.predict_proba(x_test)\n",
    "fpr, tpr, threshold = roc_curve(y_test, y_score) "
   ]
  },
  {
   "cell_type": "markdown",
   "metadata": {
    "id": "nhWYbFJ9ZbDX"
   },
   "source": [
    "|     | accuracy | sensitivity | specificity | f1-score |\n",
    "| ------ | -------- | ----------- | ----------- | -------- |\n",
    "| chb11 | 0.9537773359840954 | 0.5709677419354838 | 0.9857296715131934 | 0.6555555555555554\n",
    "| chb12 | 0.4794585987261146 | 0.7475083056478405 | 0.4706108125890997 | 0.08405715886803027\n",
    "| chb13 | 0.8144365290533001 | 0.23783783783783785 | 0.8237397523111809 | 0.03911111111111111\n",
    "| chb14 | 0.9217666864725689 | 0.03896103896103896 | 0.928550044905698 | 0.007537688442211056\n",
    "| chb15 | 0.9533666079467606 | 0.031839622641509434 | 0.9932611803144783 | 0.05362462760675273\n",
    "| chb16 | 0.9679020898279644 | 0.22857142857142856 | 0.9709019244145606 | 0.05442176870748299\n",
    "| chb17 | 0.9755196304849885 | 0.2037037037037037 | 0.9952629085741355 | 0.2933333333333333\n",
    "| chb18 | 0.9844636251541307 | 0.2698412698412698 | 0.9957414829659319 | 0.3505154639175258\n",
    "| chb19 | 0.9741644939559138 | 0.36538461538461536 | 0.98955042527339 | 0.41081081081081083\n",
    "| chb20 | 0.9810596682347116 | 0.2 | 0.9923395705136255 | 0.23115577889447236\n",
    "| chb21 | 0.9738941261783901 | 0.04395604395604396 | 0.9894930875576037 | 0.05263157894736843\n",
    "| chb22 | 0.9648148148148148 | 0.8484848484848485 | 0.9666196520921486 | 0.42424242424242425\n",
    "| chb23 | 0.9536418758154885 | 0.8606060606060606 | 0.9548351990049752 | 0.31981981981981983"
   ]
  },
  {
   "cell_type": "code",
   "execution_count": null,
   "metadata": {
    "colab": {
     "base_uri": "https://localhost:8080/"
    },
    "id": "xuajjzynOE8Z",
    "outputId": "7a91dd5b-7ba7-4fe3-e39d-bb9ad1906637"
   },
   "outputs": [
    {
     "name": "stdout",
     "output_type": "stream",
     "text": [
      "Epoch 1/10\n",
      "189/189 [==============================] - 18s 87ms/step - loss: 0.6567 - accuracy: 0.9269\n",
      "Epoch 2/10\n",
      "189/189 [==============================] - 16s 87ms/step - loss: 0.3952 - accuracy: 0.9382\n",
      "Epoch 3/10\n",
      "189/189 [==============================] - 16s 87ms/step - loss: 0.3229 - accuracy: 0.9471\n",
      "Epoch 4/10\n",
      "189/189 [==============================] - 16s 86ms/step - loss: 0.2782 - accuracy: 0.9508\n",
      "Epoch 5/10\n",
      "189/189 [==============================] - 16s 86ms/step - loss: 0.2448 - accuracy: 0.9538\n",
      "Epoch 6/10\n",
      "189/189 [==============================] - 16s 87ms/step - loss: 0.2298 - accuracy: 0.9571\n",
      "Epoch 7/10\n",
      "189/189 [==============================] - 16s 86ms/step - loss: 0.2130 - accuracy: 0.9617\n",
      "Epoch 8/10\n",
      "189/189 [==============================] - 16s 86ms/step - loss: 0.1761 - accuracy: 0.9659\n",
      "Epoch 9/10\n",
      "189/189 [==============================] - 16s 84ms/step - loss: 0.2034 - accuracy: 0.9602\n",
      "Epoch 10/10\n",
      "189/189 [==============================] - 16s 86ms/step - loss: 0.1568 - accuracy: 0.9687\n"
     ]
    },
    {
     "data": {
      "text/plain": [
       "<tensorflow.python.keras.callbacks.History at 0x7f539a080690>"
      ]
     },
     "execution_count": 20,
     "metadata": {
      "tags": []
     },
     "output_type": "execute_result"
    }
   ],
   "source": [
    "seed(1)\n",
    "model_test.fit(x_train, y_train, batch_size=32, epochs=10, class_weight = {0:1, 1:weight}, shuffle=False) "
   ]
  },
  {
   "cell_type": "code",
   "execution_count": null,
   "metadata": {
    "colab": {
     "base_uri": "https://localhost:8080/"
    },
    "id": "7jnIH1SxXm4T",
    "outputId": "6d028734-50e6-4d59-e1e9-6f7ee49ffe3c"
   },
   "outputs": [
    {
     "name": "stdout",
     "output_type": "stream",
     "text": [
      "acuuracy \t 0.9699304174950298\n",
      "sensitivity \t 0.9612903225806452\n",
      "specificity \t 0.9706515885837372\n",
      "F1-score \t 0.8312412831241283\n"
     ]
    }
   ],
   "source": [
    "# After fine tune\n",
    "\n",
    "y_hat = model_test.predict_classes(x_test)\n",
    "tn, fp, fn, tp = confusion_matrix(y_test, y_hat).ravel()\n",
    "print('acuuracy \\t', accuracy_score(y_test, y_hat))\n",
    "sensitivity = int(tp)/int(tp+fn)\n",
    "print('sensitivity \\t', sensitivity)\n",
    "specificity = int(tn)/int(fp+tn)\n",
    "print('specificity \\t', specificity)\n",
    "print('F1-score \\t', f1_score(y_test, y_hat))\n",
    "\n",
    "y_score = model_test.predict_proba(x_test)\n",
    "fpr, tpr, threshold = roc_curve(y_test, y_score) "
   ]
  },
  {
   "cell_type": "markdown",
   "metadata": {
    "id": "0Y5LUmY1ZjMn"
   },
   "source": [
    "|     | accuracy | sensitivity | specificity | f1-score |\n",
    "| ------ | -------- | ----------- | ----------- | -------- |\n",
    "| chb11 | 0.9699304174950298 | 0.9612903225806452 | 0.9706515885837372 | 0.8312412831241283\n",
    "| chb12 | 0.8904989384288747 | 0.584717607973422 | 0.9005921701941002 | 0.2544271774485002\n",
    "| chb13 | 0.7853403141361257 | 0.9081081081081082 | 0.783359497645212 | 0.11843496651392316\n",
    "| chb14 | 0.9358288770053476 | 0.7792207792207793 | 0.9370322323121445 | 0.15625\n",
    "| chb15 | 0.9583577999608534 | 0.8950471698113207 | 0.9610986318153972 | 0.6407766990291263\n",
    "| chb16 | 0.9715968133010046 | 0.5142857142857142 | 0.9734523533503362 | 0.1276595744680851\n",
    "| chb17 | 0.910161662817552 | 0.8981481481481481 | 0.9104689720511606 | 0.33276157804459694\n",
    "| chb18 | 0.9025893958076449 | 0.9047619047619048 | 0.9025551102204409 | 0.2239685658153242\n",
    "| chb19 | 0.9341076084380184 | 0.9230769230769231 | 0.9343863912515188 | 0.4085106382978723\n",
    "| chb20 | 0.9372369398365932 | 0.9304347826086956 | 0.9373351751852317 | 0.2968099861303744\n",
    "| chb21 | 0.8934010152284264 | 0.9010989010989011 | 0.8932718894009216 | 0.21808510638297873\n",
    "| chb22 | 0.9756944444444444 | 0.9848484848484849 | 0.9755524212505877 | 0.5531914893617023\n",
    "| chb23 | 0.9537953795379538 | 0.9818181818181818 | 0.9534359452736318 | 0.3498920086393089"
   ]
  },
  {
   "cell_type": "code",
   "execution_count": null,
   "metadata": {
    "colab": {
     "base_uri": "https://localhost:8080/",
     "height": 277
    },
    "id": "wjPewmxI5xwZ",
    "outputId": "2a772cd4-d99f-488e-901a-7bc5e17e7460"
   },
   "outputs": [
    {
     "name": "stdout",
     "output_type": "stream",
     "text": [
      "     AUC     \t 0.994701825698751\n"
     ]
    },
    {
     "data": {
      "text/plain": [
       "<Figure size 432x288 with 0 Axes>"
      ]
     },
     "metadata": {
      "tags": []
     },
     "output_type": "display_data"
    },
    {
     "data": {
      "image/png": "[encoded data removed]",
      "text/plain": [
       "<Figure size 360x216 with 1 Axes>"
      ]
     },
     "metadata": {
      "needs_background": "light",
      "tags": []
     },
     "output_type": "display_data"
    }
   ],
   "source": [
    "confusion_matrix(y_test, y_hat).ravel()\n",
    "roc_auc = auc(fpr, tpr)    \n",
    "print('     AUC     \\t', roc_auc)\n",
    "plt.figure()\n",
    "\n",
    "plt.figure(figsize=(5, 3))\n",
    "A, = plt.plot(fpr, tpr, color='red', lw=2, label='ROC curve (area = %0.2f)' % roc_auc)\n",
    "B, = plt.plot([0, 1], [0, 1], color='navy', lw=2, linestyle='--', label='AUC = 0.5')\n",
    "\n",
    "legend = plt.legend(handles=[A, B], loc=\"lower right\")\n",
    "\n",
    "plt.xlim([0.0, 1.0])\n",
    "plt.ylim([0.0, 1.05])\n",
    "\n",
    "plt.xlabel('False Positive Rate')\n",
    "plt.ylabel('True Positive Rate')\n",
    "\n",
    "plt.title('ROC AUC')\n",
    "plt.show()"
   ]
  }
 ],
 "metadata": {
  "accelerator": "GPU",
  "colab": {
   "collapsed_sections": [],
   "name": "DLseizuredetect-v4.ipynb",
   "provenance": [],
   "toc_visible": true
  },
  "kernelspec": {
   "display_name": "Python 3",
   "language": "python",
   "name": "python3"
  },
  "language_info": {
   "codemirror_mode": {
    "name": "ipython",
    "version": 3
   },
   "file_extension": ".py",
   "mimetype": "text/x-python",
   "name": "python",
   "nbconvert_exporter": "python",
   "pygments_lexer": "ipython3",
   "version": "3.7.4"
  }
 },
 "nbformat": 4,
 "nbformat_minor": 1
}
